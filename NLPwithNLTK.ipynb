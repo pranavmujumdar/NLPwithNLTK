{
  "nbformat": 4,
  "nbformat_minor": 0,
  "metadata": {
    "colab": {
      "name": "NLPwithNLTK.ipynb",
      "version": "0.3.2",
      "provenance": [],
      "collapsed_sections": [],
      "include_colab_link": true
    },
    "kernelspec": {
      "name": "python3",
      "display_name": "Python 3"
    }
  },
  "cells": [
    {
      "cell_type": "markdown",
      "metadata": {
        "id": "view-in-github",
        "colab_type": "text"
      },
      "source": [
        "<a href=\"https://colab.research.google.com/github/pranavmujumdar/NLPwithNLTK/blob/master/NLPwithNLTK.ipynb\" target=\"_parent\"><img src=\"https://colab.research.google.com/assets/colab-badge.svg\" alt=\"Open In Colab\"/></a>"
      ]
    },
    {
      "metadata": {
        "id": "ZbePEUV262X3",
        "colab_type": "code",
        "colab": {}
      },
      "cell_type": "code",
      "source": [
        "# !pip install nltk\n",
        "#down loading all the corpora from nltk, unnecessary but hey! i'm still learning\n",
        "nltk.download(\"all-corpora\")\n"
      ],
      "execution_count": 0,
      "outputs": []
    },
    {
      "metadata": {
        "id": "K7w40y7IGoA6",
        "colab_type": "text"
      },
      "cell_type": "markdown",
      "source": [
        "To download nltk packages use nltk.download(), to get a UI where you can do multiple actions such as download, list, help, update, config \n",
        "```\n",
        "nltk.download()\n",
        "```\n",
        "\n",
        "OR\n",
        "\n",
        "To download specific package from NLTK\n",
        "\n",
        "\n",
        "---\n",
        "\n",
        "\n",
        "use following commands:\n",
        "\n",
        "```\n",
        "nltk.download(\"popular\")\n",
        "```\n",
        "\n",
        "all-corpora......... All the corpora\n",
        "\n",
        "all-nltk............ All packages available on nltk_data gh-pages branch\n",
        "                           \n",
        "all................. All packages\n",
        "\n",
        "book................ Everything used in the NLTK Book\n",
        "\n",
        "popular............. Popular packages\n",
        "\n",
        "tests............... Packages for running tests\n",
        "\n"
      ]
    },
    {
      "metadata": {
        "id": "hw3sz6GGE5Xt",
        "colab_type": "text"
      },
      "cell_type": "markdown",
      "source": [
        "[Link to the NLTK documentation](https://www.nltk.org/)"
      ]
    },
    {
      "metadata": {
        "id": "X8OYoak3I2wg",
        "colab_type": "text"
      },
      "cell_type": "markdown",
      "source": [
        "#importing necessary packages"
      ]
    },
    {
      "metadata": {
        "id": "TYPQ2Ba27y4g",
        "colab_type": "code",
        "colab": {}
      },
      "cell_type": "code",
      "source": [
        "import nltk #duh\n",
        "import nltk.corpus #to get corpus reader functions\n"
      ],
      "execution_count": 0,
      "outputs": []
    },
    {
      "metadata": {
        "id": "ZBrGFd8MJTvK",
        "colab_type": "text"
      },
      "cell_type": "markdown",
      "source": [
        "[Corpus access documentation](http://www.nltk.org/howto/corpus.html)"
      ]
    }
  ]
}